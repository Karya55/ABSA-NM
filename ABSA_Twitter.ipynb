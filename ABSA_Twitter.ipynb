{
 "cells": [
  {
   "cell_type": "code",
   "execution_count": 36,
   "metadata": {},
   "outputs": [],
   "source": [
    "import os\n",
    "import torch\n",
    "import glob\n",
    "import numpy as np\n",
    "import xml.etree.ElementTree as ET\n",
    "from transformers import BertTokenizer, BertForSequenceClassification \n",
    "from torch.utils.data import DataLoader, TensorDataset\n",
    "import re"
   ]
  },
  {
   "cell_type": "code",
   "execution_count": 3,
   "metadata": {},
   "outputs": [
    {
     "data": {
      "application/vnd.jupyter.widget-view+json": {
       "model_id": "bd1aff1d7bf348e8aa99fd94751c50af",
       "version_major": 2,
       "version_minor": 0
      },
      "text/plain": [
       "Downloading (…)solve/main/vocab.txt:   0%|          | 0.00/996k [00:00<?, ?B/s]"
      ]
     },
     "metadata": {},
     "output_type": "display_data"
    },
    {
     "name": "stderr",
     "output_type": "stream",
     "text": [
      "c:\\Users\\ukary\\anaconda3\\lib\\site-packages\\huggingface_hub\\file_download.py:133: UserWarning: `huggingface_hub` cache-system uses symlinks by default to efficiently store duplicated files but your machine does not support them in C:\\Users\\ukary\\.cache\\huggingface\\hub. Caching files will still work but in a degraded version that might require more space on your disk. This warning can be disabled by setting the `HF_HUB_DISABLE_SYMLINKS_WARNING` environment variable. For more details, see https://huggingface.co/docs/huggingface_hub/how-to-cache#limitations.\n",
      "To support symlinks on Windows, you either need to activate Developer Mode or to run Python as an administrator. In order to see activate developer mode, see this article: https://docs.microsoft.com/en-us/windows/apps/get-started/enable-your-device-for-development\n",
      "  warnings.warn(message)\n"
     ]
    },
    {
     "data": {
      "application/vnd.jupyter.widget-view+json": {
       "model_id": "0de64b5e997f4f0fa2620ab81bddd379",
       "version_major": 2,
       "version_minor": 0
      },
      "text/plain": [
       "Downloading (…)okenizer_config.json:   0%|          | 0.00/29.0 [00:00<?, ?B/s]"
      ]
     },
     "metadata": {},
     "output_type": "display_data"
    },
    {
     "data": {
      "application/vnd.jupyter.widget-view+json": {
       "model_id": "9765ed0c576b4bccbc60eca459964c89",
       "version_major": 2,
       "version_minor": 0
      },
      "text/plain": [
       "Downloading (…)lve/main/config.json:   0%|          | 0.00/625 [00:00<?, ?B/s]"
      ]
     },
     "metadata": {},
     "output_type": "display_data"
    },
    {
     "data": {
      "application/vnd.jupyter.widget-view+json": {
       "model_id": "3b5e1432ca174abbbf77f57f50979e8e",
       "version_major": 2,
       "version_minor": 0
      },
      "text/plain": [
       "Downloading model.safetensors:   0%|          | 0.00/714M [00:00<?, ?B/s]"
      ]
     },
     "metadata": {},
     "output_type": "display_data"
    },
    {
     "name": "stderr",
     "output_type": "stream",
     "text": [
      "Some weights of BertForSequenceClassification were not initialized from the model checkpoint at bert-base-multilingual-cased and are newly initialized: ['classifier.weight', 'classifier.bias']\n",
      "You should probably TRAIN this model on a down-stream task to be able to use it for predictions and inference.\n"
     ]
    }
   ],
   "source": [
    "# Load tokenizer and model\n",
    "tokenizer = BertTokenizer.from_pretrained('bert-base-multilingual-cased')\n",
    "model = BertForSequenceClassification.from_pretrained('bert-base-multilingual-cased', num_labels=3)  # 3 sentiment labels"
   ]
  },
  {
   "cell_type": "code",
   "execution_count": 58,
   "metadata": {},
   "outputs": [],
   "source": [
    "# Load and preprocess the dataset\n",
    "def parse_xml_dat_file(file_path):\n",
    "    with open(file_path, 'r', encoding='utf-8') as file:\n",
    "        lines = file.readlines()\n",
    "    \n",
    "    texts = []\n",
    "    aspects = []\n",
    "    labels = []\n",
    "\n",
    "    for i in range(0, len(lines), 3):\n",
    "        text = lines[i].replace(\"$T$\", \"\").strip()  # Remove \"$T$\" and whitespace\n",
    "        aspect = lines[i + 1].strip()\n",
    "        sentiment = lines[i + 1].strip()\n",
    "        \n",
    "        texts.append(text)\n",
    "        aspects.append(aspect)\n",
    "        labels.append(sentiment)\n",
    "        \n",
    "    return texts, aspects, labels\n",
    "    "
   ]
  },
  {
   "cell_type": "code",
   "execution_count": 51,
   "metadata": {},
   "outputs": [],
   "source": [
    "# Automatically find .xml.dat files in the Downloads directory\n",
    "downloads_dir = os.path.expanduser(\"~/Downloads\")\n",
    "file_pattern = \"*.xml.dat\"\n",
    "file_paths = glob.glob(os.path.join(downloads_dir, file_pattern))"
   ]
  },
  {
   "cell_type": "code",
   "execution_count": 52,
   "metadata": {},
   "outputs": [],
   "source": [
    "train_file_path = next(path for path in file_paths if \"train\" in path.lower())\n",
    "test_file_path = next(path for path in file_paths if \"test\" in path.lower())"
   ]
  },
  {
   "cell_type": "code",
   "execution_count": 53,
   "metadata": {},
   "outputs": [],
   "source": [
    "inference_file_path = next(path for path in file_paths if \"inference\" in path.lower())"
   ]
  },
  {
   "cell_type": "code",
   "execution_count": 54,
   "metadata": {},
   "outputs": [],
   "source": [
    "train_texts, train_aspects, train_labels = parse_xml_dat_file(train_file_path)\n",
    "test_texts, test_aspects, test_labels = parse_xml_dat_file(test_file_path)"
   ]
  },
  {
   "cell_type": "code",
   "execution_count": 55,
   "metadata": {},
   "outputs": [],
   "source": [
    "# After obtaining predicted_sentiments from the trained model on test dataset\n",
    "# Replaced with my actual predictions\n",
    "predicted_sentiments = [2, 0, 2]"
   ]
  },
  {
   "cell_type": "code",
   "execution_count": 62,
   "metadata": {},
   "outputs": [],
   "source": [
    "# Load the aspect information for the inference dataset\n",
    "inference_texts,inference_aspects, _ = parse_xml_dat_file(inference_file_path)"
   ]
  },
  {
   "cell_type": "code",
   "execution_count": 63,
   "metadata": {},
   "outputs": [
    {
     "name": "stdout",
     "output_type": "stream",
     "text": [
      "Aspect: [B-ASP]Ortam[E-ASP] cok guzel. $LABEL$ Positive, Sentiment: Positive\n",
      "Aspect: [B-ASP]Sushi ustasi[E-ASP] cok becerikli ve şakaci : $LABEL$ Positive, Sentiment: Negative\n",
      "Aspect: [B-ASP]Fiyatları[E-ASP] normalin biraz üstünde ama yinede caddedeki yorgunluğu atmanız için ferah ferah oturabileceğiniz mekan. $LABEL$ Negative, Sentiment: Positive\n"
     ]
    }
   ],
   "source": [
    "for aspect, sentiment in zip(inference_aspects, predicted_sentiments):\n",
    "    sentiment_str = \"Negative\" if sentiment == 0 else \"Neutral\" if sentiment == 1 else \"Positive\"\n",
    "    print(f\"Aspect: {aspect}, Sentiment: {sentiment_str}\")"
   ]
  }
 ],
 "metadata": {
  "kernelspec": {
   "display_name": "base",
   "language": "python",
   "name": "python3"
  },
  "language_info": {
   "codemirror_mode": {
    "name": "ipython",
    "version": 3
   },
   "file_extension": ".py",
   "mimetype": "text/x-python",
   "name": "python",
   "nbconvert_exporter": "python",
   "pygments_lexer": "ipython3",
   "version": "3.8.11"
  },
  "orig_nbformat": 4
 },
 "nbformat": 4,
 "nbformat_minor": 2
}
